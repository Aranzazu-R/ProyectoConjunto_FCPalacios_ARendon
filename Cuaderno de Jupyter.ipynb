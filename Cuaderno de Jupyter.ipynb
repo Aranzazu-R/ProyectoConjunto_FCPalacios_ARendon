{
 "cells": [
  {
   "cell_type": "markdown",
   "metadata": {},
   "source": [
    "<img style=\"float: left; margin: 30px 15px 15px 15px;\" src=\"https://pngimage.net/wp-content/uploads/2018/06/logo-iteso-png-5.png\" width=\"300\" height=\"500\" /> \n",
    "    \n",
    "    \n",
    "### <font color='navy'> Simulación de procesos financieros. \n",
    "\n",
    "**Nombres:** Flavio Palacios y\n",
    "    Aranzazú Rendón.\n",
    "\n",
    "**Fecha:** 31 de enero del 2021.\n",
    "\n",
    "**Expediente** : if729825, if722272.\n",
    "**Profesor:** Oscar David Jaramillo Zuluaga.\n",
    "\n",
    "# Tarea 1: Clase 02"
   ]
  },
  {
   "cell_type": "markdown",
   "metadata": {},
   "source": [
    "### Link de Github\n",
    "[Github](https://github.com/Palacios-F/ProyectoConjunto_FCPalacios_ARendon)"
   ]
  },
  {
   "cell_type": "markdown",
   "metadata": {},
   "source": [
    "## Enunciado de tarea \n",
    "1.  El archivo debe realizarse en parejas y sólo uno de los dos debe crear en su cuenta de *Github* un repositorio con el nombre **ProyectoConjunto\\_APELLIDO1\\_APELLIDO2**. A la persona que creó el repositorio la llamaremos (ESTUDIANTE 1 ). El APELLIDO se debe de escribir (Iniciales del nombre y primer apellido), por ejemplo si yo creara el archivo lo debería de nombrar *ProyectoConjunto\\_ODJaramillo*. \n",
    "2.  Posteriormente, desde la cuenta del (ESTUDIANTE 2), 'aquel que no creó el repositorio anterior', ingresar al perfil del ESTUDIANTE 1 y en el repositorio creado en el paso 1, realizar un \"fork\" de este repositorio en su perfil, y además realizar los pasos en Gitkraken para hacer dicho repositorio \"Remoto (REMOTE)\" VER DICHO PROCEDIMIENTO EN LA CLASE **Clase2_GitTurorial2**.\n",
    "3.  Luego de realizados los pasos 1 y 2, el ESTUDIANTE 1 y ESTUDIANTE 2, desde su computador realizar un *clone* del repositorio creado en el numeral 1 en la carpeta que cada quién haya asignado para el curso en su computador. \n",
    "4.  Luego desde Jupyter el ESTUDIANTE 1, crea un nuevo ``notebook`` en el repositorio del paso 3.   \n",
    "\n",
    "5.  En este nuevo notebook el ESTUDIANTE 1 y ESTUDIANTE 2, deben realizar una presentación describiendo sus expectativas del curso y la transcipción de la Figura 1 y Figura 2 respectivamente, haciendo uso de la sintaxis Markdown. Recuerden definir unas celdas donde cada usuario modificará el cuaderno de python para evitar futuros conflictos. \n",
    "6. Cuando ya se encuentre el proyecto conjunto con la información del ESTUDIANTE 1 y ESTUDIANTE 2, el ``ESTUDIANTE 2``  debe de realizar un `pull request` con las modificaciones realizadas a el `ESTUDIANTE 1` para que este realice un merge a la rama `master`, con las moficaciones propuestas por el `ESTUDIANTE 2`, TAL Y CÓMO SE REALIZÓ EN CLASE. (Recuerden que los pull request se generan en *Gitkraken* y se administran los comentarios o cambios propuestos por su compañero desde *Github* ver `Clase1_GitTurorial` para aclaración de dudas, donde se explica cómo crear *branch y pull request*)\n",
    "7. Luego de culminado los pasos anteriores, el ESTUDIANTE 1,realizará un programa que imprima la serie de fibonacci para sus primeros 100 términos en un array de python,usando la rama “master” del repositorio creado. Por otro lado, el ESTUDIANTE 2,creando un “branch” llamado `ejerPrograma`, generará un programa que muestre los números primos del 0-100. Luego de que el ESTUDIANTE 2 haya terminado su programa, debe de realizar un “pull request” al ESTUDIANTE 1, **ANTES** de hacer un “merge” de la rama `ejerPrograma` en el proyecto principal (“master”). Luego de realizado estos pasos **NO BORRAR LA RAMA CREADA (`ejerPrograma`)**"
   ]
  },
  {
   "cell_type": "markdown",
   "metadata": {},
   "source": [
    "# Espacio Estudiante 1 Flavio"
   ]
  },
  {
   "cell_type": "markdown",
   "metadata": {},
   "source": [
    "### Expectativas del curso\n",
    "Considero que este curso personalmente va a ser un reto porque va a poder ser una puesta de conocimientos previos de otras materias y ponerlos dentro de un terreno mucho más práctico, si bien alguno de los conocimientos que pudieran hacer que cursar la materia sea mucho más sencillo no por ello voy a desanimarme. Va a ser una muy buena oportunidad para reforzar conocimientos de sobre probabilidad a la hora de hacer las simulaciones y en general espero que el curso me ayude a afilar mis habilidades relacionadas con la programación ya que considero que esta es una rama muy importante para mi formación como ingeniero financiero y que además tengo una gran afinidad con estos temas."
   ]
  },
  {
   "cell_type": "markdown",
   "metadata": {},
   "source": [
    "$$\n",
    "\\begin{array}{|c|c|c|}\n",
    "   \\hline\n",
    "   i & x & f(x) \\\\ \\hline\n",
    "   0 & -1 & 0.3678 \\\\\n",
    "   1 & \\color{red}{-0.5} & \\color{red}{0.7788} \\\\\n",
    "   2 & \\color{blue}{0} & \\color{blue}{1} \\\\\n",
    "   3 & \\color{red}{0.5} & \\color{red}{0.7788} \\\\\n",
    "   4 & 1 & 0.3678 \\\\\n",
    "   \\hline\n",
    "\\end{array}\n",
    "$$\n",
    "$$\n",
    "\\text{Cuadro 1: Tabla de valores de f(x)}\n",
    "$$\n",
    "  \n",
    "$\\color{white}{3}$\n",
    " \n",
    "    \n",
    "$$\n",
    "\\begin{align}\n",
    "\\int_{-1}^{1} e^-x^2 \\,dx &\\approx \\frac{0,5}{3}[f(-1)+f(1) +4(\\color{red}{f(-0.5)+f(0.5)})+2\\color{blue}{f(0)}]  \\\\\n",
    "                              &\\approx \\frac{0,5}{3}[0,3678 + 0,3678  +4(\\color{red}{0,7788+0,7788})+2\\color{blue}{\\cdot1}] \\approx 1,4943\n",
    "\\end{align}$$\n",
    "$$\n",
    "\\begin{align}\n",
    "&\\color{white}{int!} \\text{A modo de verificación, se calculará por software el valor del área para } \\textit{n } \\text{= 100, un valor mucho}\\\\\n",
    "&\\text{más elevado al que se utilizó anteriormente. Si lo calculado previamente es correcto, se esperará que }\\\\\n",
    "&\\text{ sea próximo al valor presentado a continuación para ser una buena aproximación.}\n",
    "\\end{align}\n",
    "$$\n",
    "\n",
    "$$\\int_{-1}^{1} e^-x^2 \\,dx \\approx 1,4943$$\n",
    "$$\\text{Figura 1. Figura que debe transcribir en markdown el `ESTUDIANTE 1`}$$"
   ]
  },
  {
   "cell_type": "markdown",
   "metadata": {},
   "source": [
    "# Espacio Estudiante 2 Aranzazu"
   ]
  },
  {
   "cell_type": "markdown",
   "metadata": {},
   "source": [
    "#### Expectativas del curso:   \n",
    "En este curso yo espero aprender herramientas que me sirvan en mi profesión, me emociona trabajar con programas como Git, ya que tengo entendido que son muy útiles en el ámbito laboral hoy en día. Aun que en realidad no haya escuchado mucho a cerca de esta materia, por lo que llevamos visto creo que me servira para aterrizar muchos de los conocimientos que he adquirido en cursos pasados de programación y enfocarlos más a mi carrera."
   ]
  },
  {
   "cell_type": "markdown",
   "metadata": {},
   "source": [
    " $$\n",
    "\\begin{array}{|c|c|c|c|c|c|c|c|}\n",
    "   \\hline\n",
    "   i & 1 & 2 & 3 & 4 & 5 & 6 & 7 \\\\ \\hline\n",
    "   E_{i}(V) & 12 & 10 & 24 & 12 & - & - & - \\\\\n",
    "   r_{i}(\\Omega) & 0.1 & 0.5 & 0.2 & 0.5 & - & - & - \\\\\n",
    "   R_{i}(\\Omega) & 25 & 40 & 16 & 20 & 9 & 4 & 20 \\\\\n",
    "   \\hline\n",
    "\\end{array}\n",
    "$$"
   ]
  },
  {
   "cell_type": "markdown",
   "metadata": {},
   "source": [
    "$\\color{white}{int!}  \\color{steelblue}{\\text{Kemna y Vorst (1990)}} \\text{ muestran que las opciones asiáticas con media geométrica continua se pueden valuar}\\\\\n",
    "\\text{con el mismo enfoque de las opciones $\\textit{ plain vanilla }$; solo se deben cambiar los parámetros de volatilidad } \\sigma \\text{ por } \\\\\n",
    "\\sigma_a \\text{ y el costo de acarreo } b \\text{ por } b_A. \\\\ \n",
    "\\color{white}{int!}  \\text{De acuerdo con Kemna y Vorst, las fórmulas para valuar una opción de compra y una opción de venta son: }$\n",
    "\n",
    "$ \\color{white}{int!}  c \\approx S_t e^{(b_A - r)^(T-t)}\\phi(d_1) - Ke^{-r(T-t)} \\phi(d2),\\\\ \n",
    "\\color{white}{int!}   p \\approx Ke^{-r(T-t)} \\phi(-d2) S_te^{(b_A-r)^(T-t)}\\phi(-d_1).$\n",
    "\n",
    "$\\text{con } d_1 \\text{ y } d_2 \\text{ dados por: }$\n",
    "\n",
    "$ \\color{white}{int!}  d_1 = \\frac{ln(S_t/K) + (b_A + 1/2\\sigma^2_a)(T-t)}{\\sigma\\sqrt{T-t}},$\n",
    "\n",
    "$ \\color{white}{int!}  d_2 = d_1 - \\sigma_a\\sqrt{T-t}.$\n",
    "\n",
    "$\\text{La función } \\phi(d) \\text{ es la función de distribución acumulada de } E\\sim N(0,1). \\text{ La volatilidad ajustada es igual a: }$\n",
    "\n",
    "$\\color{white}{int!}  \\sigma_a = \\frac{\\sigma}{\\sqrt3}, $\n",
    "\n",
    "$\\text{mientras que el costo de acarreo ajustado es de: } $\n",
    "\n",
    "$\\color{white}{int!}   b_A = \\frac{1}{2}(v - \\frac{\\sigma^2}{6}). $"
   ]
  },
  {
   "cell_type": "markdown",
   "metadata": {},
   "source": [
    "### Programa Estudiante 1"
   ]
  },
  {
   "cell_type": "code",
   "execution_count": 1,
   "metadata": {},
   "outputs": [],
   "source": [
    "import numpy as np"
   ]
  },
  {
   "cell_type": "code",
   "execution_count": 2,
   "metadata": {},
   "outputs": [
    {
     "name": "stdout",
     "output_type": "stream",
     "text": [
      "[0.00000000e+00 1.00000000e+00 1.00000000e+00 2.00000000e+00\n",
      " 3.00000000e+00 5.00000000e+00 8.00000000e+00 1.30000000e+01\n",
      " 2.10000000e+01 3.40000000e+01 5.50000000e+01 8.90000000e+01\n",
      " 1.44000000e+02 2.33000000e+02 3.77000000e+02 6.10000000e+02\n",
      " 9.87000000e+02 1.59700000e+03 2.58400000e+03 4.18100000e+03\n",
      " 6.76500000e+03 1.09460000e+04 1.77110000e+04 2.86570000e+04\n",
      " 4.63680000e+04 7.50250000e+04 1.21393000e+05 1.96418000e+05\n",
      " 3.17811000e+05 5.14229000e+05 8.32040000e+05 1.34626900e+06\n",
      " 2.17830900e+06 3.52457800e+06 5.70288700e+06 9.22746500e+06\n",
      " 1.49303520e+07 2.41578170e+07 3.90881690e+07 6.32459860e+07\n",
      " 1.02334155e+08 1.65580141e+08 2.67914296e+08 4.33494437e+08\n",
      " 7.01408733e+08 1.13490317e+09 1.83631190e+09 2.97121507e+09\n",
      " 4.80752698e+09 7.77874205e+09 1.25862690e+10 2.03650111e+10\n",
      " 3.29512801e+10 5.33162912e+10 8.62675713e+10 1.39583862e+11\n",
      " 2.25851434e+11 3.65435296e+11 5.91286730e+11 9.56722026e+11\n",
      " 1.54800876e+12 2.50473078e+12 4.05273954e+12 6.55747032e+12\n",
      " 1.06102099e+13 1.71676802e+13 2.77778900e+13 4.49455702e+13\n",
      " 7.27234602e+13 1.17669030e+14 1.90392491e+14 3.08061521e+14\n",
      " 4.98454012e+14 8.06515533e+14 1.30496954e+15 2.11148508e+15\n",
      " 3.41645462e+15 5.52793970e+15 8.94439432e+15 1.44723340e+16\n",
      " 2.34167283e+16 3.78890624e+16 6.13057907e+16 9.91948531e+16\n",
      " 1.60500644e+17 2.59695497e+17 4.20196141e+17 6.79891638e+17\n",
      " 1.10008778e+18 1.77997942e+18 2.88006719e+18 4.66004661e+18\n",
      " 7.54011380e+18 1.22001604e+19 1.97402742e+19 3.19404346e+19\n",
      " 5.16807089e+19 8.36211435e+19 1.35301852e+20 2.18922996e+20]\n"
     ]
    }
   ],
   "source": [
    "fibonnaci = np.zeros(100)\n",
    "fibonnaci[1] = 1\n",
    "for i in range(98):\n",
    "    fibonnaci[i+2]= fibonnaci [i+1] + fibonnaci[i]\n",
    "print(fibonnaci)"
   ]
  },
  {
   "cell_type": "markdown",
   "metadata": {},
   "source": [
    "## Programa Estudiante 2"
   ]
  },
  {
   "cell_type": "code",
   "execution_count": 1,
   "metadata": {},
   "outputs": [
    {
     "name": "stdout",
     "output_type": "stream",
     "text": [
      "[2, 1, 3, 5, 7, 11, 13, 17, 19, 23, 29, 31, 37, 41, 43, 47, 53, 59, 61, 67, 71, 73, 79, 83, 89, 97]\n"
     ]
    }
   ],
   "source": [
    "n = 100\n",
    "primos = [2] + [x for x in range(1, n+1, 2) \n",
    "                if not [y for y in range(3, int(x**0.5)+1, 2) \n",
    "                        if (float(x) / y).is_integer()]]\n",
    "print(primos)"
   ]
  },
  {
   "cell_type": "code",
   "execution_count": null,
   "metadata": {},
   "outputs": [],
   "source": []
  }
 ],
 "metadata": {
  "kernelspec": {
   "display_name": "Python 3",
   "language": "python",
   "name": "python3"
  },
  "language_info": {
   "codemirror_mode": {
    "name": "ipython",
    "version": 3
   },
   "file_extension": ".py",
   "mimetype": "text/x-python",
   "name": "python",
   "nbconvert_exporter": "python",
   "pygments_lexer": "ipython3",
   "version": "3.8.5"
  }
 },
 "nbformat": 4,
 "nbformat_minor": 2
}
