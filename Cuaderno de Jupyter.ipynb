{
 "cells": [
  {
   "cell_type": "markdown",
   "metadata": {},
   "source": [
    "# Espacio Estudiante 1 Flavio"
   ]
  },
  {
   "cell_type": "markdown",
   "metadata": {},
   "source": [
    "### Expectativas del curso\n",
    "Considero que este curso personalmente va a ser un reto porque va a poder ser una puesta de conocimientos previos de otras materias y ponerlos dentro de un terreno mucho más práctico, si bien alguno de los conocimientos que pudieran hacer que cursar la materia sea mucho más sencillo no por ello voy a desanimarme. Va a ser una muy buena oportunidad para reforzar conocimientos de sobre probabilidad a la hora de hacer las simulaciones y en general espero que el curso me ayude a afilar mis habilidades relacionadas con la programación ya que considero que esta es una rama muy importante para mi formación como ingeniero financiero y que además tengo una gran afinidad con estos temas."
   ]
  },
  {
   "cell_type": "markdown",
   "metadata": {},
   "source": [
    "$$\n",
    "   \\begin{array}{|c|c|c|}\n",
    "   \\hline\n",
    "   i & x & f(x) \\\\ \\hline\n",
    "   0 & -1 & 0.3678 \\\\\n",
    "   1 & \\color{red}{-0.5} & \\color{red}{0.7788} \\\\\n",
    "   2 & \\color{blue}{0} & \\color{blue}{1} \\\\\n",
    "   3 & \\color{red}{0.5} & \\color{red}{0.7788} \\\\\n",
    "   4 & 1 & 0.3678 \\\\\n",
    "   \\hline\n",
    "\\end{array}$$\n",
    "$$\n",
    "\\text{Cuadro 1: Tabla de valores de f(x)}\n",
    "$$\n",
    "  \n",
    "$\\color{white}{3}$\n",
    " \n",
    "    \n",
    "$$\n",
    "\\begin{align}\n",
    "\\int_{-1}^{1} e^-x^2 \\,dx &\\approx \\frac{0,5}{3}[f(-1)+f(1) +4(\\color{red}{f(-0.5)+f(0.5)})+2\\color{blue}{f(0)}]  \\\\\n",
    "                              &\\approx \\frac{0,5}{3}[0,3678 + 0,3678  +4(\\color{red}{0,7788+0,7788})+2\\color{blue}{\\cdot1}] \\approx 1,4943\n",
    "\\end{align}$$\n",
    "$$\n",
    "\\begin{align}\n",
    "\\text{A modo de verificación, se calculará por medio del software el valor del área para n = 100, un valor mucho más elevado al que se utilizó anteriormente. }\n",
    "\\text{Si lo calculado previamente es correcto, se esperará que sea próximo al valor presentado a continuación para ser una buena aproximación}\n",
    "\\end{align}\n",
    "$$\n",
    "\n",
    "$$\\int_{-1}^{1} e^-x^2 \\,dx \\approx 1,4943$$\n",
    "$$\\text{Figura 1. Figura que debe transcribir en markdown el `ESTUDIANTE 1`}$$"
   ]
  },
  {
   "cell_type": "markdown",
   "metadata": {},
   "source": [
    "# Espacio Estudiante 2 Aranzazu"
   ]
  },
  {
   "cell_type": "code",
   "execution_count": null,
   "metadata": {},
   "outputs": [],
   "source": []
  },
  {
   "cell_type": "code",
   "execution_count": null,
   "metadata": {},
   "outputs": [],
   "source": []
  }
 ],
 "metadata": {
  "kernelspec": {
   "display_name": "Python 3",
   "language": "python",
   "name": "python3"
  },
  "language_info": {
   "codemirror_mode": {
    "name": "ipython",
    "version": 3
   },
   "file_extension": ".py",
   "mimetype": "text/x-python",
   "name": "python",
   "nbconvert_exporter": "python",
   "pygments_lexer": "ipython3",
   "version": "3.7.4"
  }
 },
 "nbformat": 4,
 "nbformat_minor": 2
}
