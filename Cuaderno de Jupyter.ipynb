{
 "cells": [
  {
   "cell_type": "markdown",
   "metadata": {},
   "source": [
    "# Espacio Estudiante 1 Flavio"
   ]
  },
  {
   "cell_type": "markdown",
   "metadata": {},
   "source": [
    "### Expectativas del curso\n",
    "Considero que este curso personalmente va a ser un reto porque va a poder ser una puesta de conocimientos previos de otras materias y ponerlos dentro de un terreno mucho más práctico, si bien alguno de los conocimientos que pudieran hacer que cursar la materia sea mucho más sencillo no por ello voy a desanimarme. Va a ser una muy buena oportunidad para reforzar conocimientos de sobre probabilidad a la hora de hacer las simulaciones y en general espero que el curso me ayude a afilar mis habilidades relacionadas con la programación ya que considero que esta es una rama muy importante para mi formación como ingeniero financiero y que además tengo una gran afinidad con estos temas."
   ]
  },
  {
   "cell_type": "markdown",
   "metadata": {},
   "source": [
    "$$\n",
    "\\begin{array}{|c|c|c|}\n",
    "   \\hline\n",
    "   i & x & f(x) \\\\ \\hline\n",
    "   0 & -1 & 0.3678 \\\\\n",
    "   1 & \\color{red}{-0.5} & \\color{red}{0.7788} \\\\\n",
    "   2 & \\color{blue}{0} & \\color{blue}{1} \\\\\n",
    "   3 & \\color{red}{0.5} & \\color{red}{0.7788} \\\\\n",
    "   4 & 1 & 0.3678 \\\\\n",
    "   \\hline\n",
    "\\end{array}\n",
    "$$\n",
    "$$\n",
    "\\text{Cuadro 1: Tabla de valores de f(x)}\n",
    "$$\n",
    "  \n",
    "$\\color{white}{3}$\n",
    " \n",
    "    \n",
    "$$\n",
    "\\begin{align}\n",
    "\\int_{-1}^{1} e^-x^2 \\,dx &\\approx \\frac{0,5}{3}[f(-1)+f(1) +4(\\color{red}{f(-0.5)+f(0.5)})+2\\color{blue}{f(0)}]  \\\\\n",
    "                              &\\approx \\frac{0,5}{3}[0,3678 + 0,3678  +4(\\color{red}{0,7788+0,7788})+2\\color{blue}{\\cdot1}] \\approx 1,4943\n",
    "\\end{align}$$\n",
    "$$\n",
    "\\begin{align}\n",
    "&\\color{white}{int!} \\text{A modo de verificación, se calculará por software el valor del área para } \\textit{n } \\text{= 100, un valor mucho}\\\\\n",
    "&\\text{más elevado al que se utilizó anteriormente. Si lo calculado previamente es correcto, se esperará que }\\\\\n",
    "&\\text{ sea próximo al valor presentado a continuación para ser una buena aproximación.}\n",
    "\\end{align}\n",
    "$$\n",
    "\n",
    "$$\\int_{-1}^{1} e^-x^2 \\,dx \\approx 1,4943$$\n",
    "$$\\text{Figura 1. Figura que debe transcribir en markdown el `ESTUDIANTE 1`}$$"
   ]
  },
  {
   "cell_type": "markdown",
   "metadata": {},
   "source": [
    "# Espacio Estudiante 2 Aranzazu"
   ]
  },
  {
   "cell_type": "markdown",
   "metadata": {},
   "source": [
    "#### Expectativas del curso:   \n",
    "En este curso yo espero aprender herramientas que me sirvan en mi profesión, me emociona trabajar con programas como Git, ya que tengo entendido que son muy útiles en el ámbito laboral hoy en día. Aun que en realidad no haya escuchado mucho a cerca de esta materia, por lo que llevamos visto creo que me servira para aterrizar muchos de los conocimientos que he adquirido en cursos pasados de programación y enfocarlos más a mi carrera."
   ]
  },
  {
   "cell_type": "markdown",
   "metadata": {},
   "source": [
    " $$\n",
    "\\begin{array}{|c|c|c|c|c|c|c|c|}\n",
    "   \\hline\n",
    "   i & 1 & 2 & 3 & 4 & 5 & 6 & 7 \\\\ \\hline\n",
    "   E_{i}(V) & 12 & 10 & 24 & 12 & - & - & - \\\\\n",
    "   r_{i}(\\Omega) & 0.1 & 0.5 & 0.2 & 0.5 & - & - & - \\\\\n",
    "   R_{i}(\\Omega) & 25 & 40 & 16 & 20 & 9 & 4 & 20 \\\\\n",
    "   \\hline\n",
    "\\end{array}\n",
    "$$"
   ]
  },
  {
   "cell_type": "markdown",
   "metadata": {},
   "source": [
    "$\\color{white}{int!}  \\color{blue}{\\text{Kemna y Vorst (1990)}} \\text{ muestran que las opciones asiáticas con media geométrica continua se pueden valuar}\\\\\n",
    "\\text{con el mismo enfoque de las opciones $\\textit{ plain vanilla }$; solo se deben cambiar los parámetros de volatilidad } \\sigma \\text{ por } \\\\\n",
    "\\sigma_a \\text{ y el costo de acarreo } b \\text{ por } b_A. \\\\ \n",
    "\\color{white}{int!}  \\text{De acuerdo con Kemna y Vorst, las fórmulas para valuar una opción de compra y una opción de venta son: }$\n",
    "\n",
    "$ \\color{white}{int!}  c \\approx S_t e^{(b_A - r)^(T-t)}\\phi(d_1) - Ke^{-r(T-t)} \\phi(d2),\\\\ \n",
    "\\color{white}{int!}   p \\approx Ke^{-r(T-t)} \\phi(-d2) S_te^{(b_A-r)^(T-t)}\\phi(-d_1).$\n",
    "\n",
    "$\\text{con } d_1 \\text{ y } d_2 \\text{ dados por: }$\n",
    "\n",
    "$ \\color{white}{int!}  d_1 = \\frac{ln(S_t/K) + (b_A + 1/2\\sigma^2_a)(T-t)}{\\sigma\\sqrt{T-t}},$\n",
    "\n",
    "$ \\color{white}{int!}  d_2 = d_1 - \\sigma_a\\sqrt{T-t}.$\n",
    "\n",
    "$\\text{La función } \\phi(d) \\text{ es la función de distribución acumulada de } E\\sim N(0,1). \\text{ La volatilidad ajustada es igual a: }$\n",
    "\n",
    "$\\color{white}{int!}  \\sigma_a = \\frac{\\sigma}{\\sqrt3}, $\n",
    "\n",
    "$\\text{mientras que el costo de acarreo ajustado es de: } $\n",
    "\n",
    "$\\color{white}{int!}   b_A = \\frac{1}{2}(v - \\frac{\\sigma^2}{6}). $"
   ]
  },
  {
   "cell_type": "code",
   "execution_count": null,
   "metadata": {},
   "outputs": [],
   "source": []
  }
 ],
 "metadata": {
  "kernelspec": {
   "display_name": "Python 3",
   "language": "python",
   "name": "python3"
  },
  "language_info": {
   "codemirror_mode": {
    "name": "ipython",
    "version": 3
   },
   "file_extension": ".py",
   "mimetype": "text/x-python",
   "name": "python",
   "nbconvert_exporter": "python",
   "pygments_lexer": "ipython3",
   "version": "3.6.8"
  }
 },
 "nbformat": 4,
 "nbformat_minor": 2
}
